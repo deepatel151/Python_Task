{
 "cells": [
  {
   "cell_type": "code",
   "execution_count": null,
   "metadata": {},
   "outputs": [],
   "source": [
    "#Task 9\n",
    "#Ask 2 numbers from users and store it in num1 and num2\n",
    "#Ask user to press 1 for addition,2 for subtraction,3 for multiplication and 4 for division\n",
    "#based on number given by user do the math operation\n",
    "\n",
    "Num1 = int(input('Enter First Number :'))\n",
    "Num2 = int(input('Enter Second Number : '))\n",
    "\n",
    "print('Enter which operation would you like to perform ?')\n",
    "ch = input('Enter any of these char for specific operation +,-,*,/: ')\n",
    "\n",
    "result = 0\n",
    "if ch == '+':\n",
    "    result = Num1 + Num2\n",
    "elif ch == '-':\n",
    "    result = Num1 - Num2\n",
    "elif ch == '*':\n",
    "    result = Num1 * Num2\n",
    "elif ch == '/':\n",
    "    result = Num1 / Num2\n",
    "else:\n",
    "    print(\"Input character is not recognized!\")\n",
    "\n",
    "print(Num1, ch , Num2, \":\", result)\n"
   ]
  }
 ],
 "metadata": {
  "kernelspec": {
   "display_name": "Python 3",
   "language": "python",
   "name": "python3"
  },
  "language_info": {
   "codemirror_mode": {
    "name": "ipython",
    "version": 3
   },
   "file_extension": ".py",
   "mimetype": "text/x-python",
   "name": "python",
   "nbconvert_exporter": "python",
   "pygments_lexer": "ipython3",
   "version": "3.8.5"
  }
 },
 "nbformat": 4,
 "nbformat_minor": 4
}
