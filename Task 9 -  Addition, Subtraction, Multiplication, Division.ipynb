{
 "cells": [
  {
   "cell_type": "code",
   "execution_count": null,
   "metadata": {},
   "outputs": [],
   "source": [
    "\n",
    "#Task 9\n",
    "#Ask 2 numbers from users and store it in num1 and num2\n",
    "#Ask user to press 1 for addition,2 for subtraction,3 for multiplication and 4 for division\n",
    "#based on number given by user do the math operation\n",
    "\n",
    "print('1.Add')\n",
    "print('2.Subtraction')\n",
    "print('3.multiplication')\n",
    "print('4.division')\n",
    "ch = int(input('Enter any of these char for specific operation : '))\n",
    "\n",
    "Num1 = int(input('Enter First Number  : '))\n",
    "Num2 = int(input('Enter Second Number : '))\n",
    "\n",
    "if ch == 1:\n",
    "    print('Answer : ', Num1 + Num2)\n",
    "elif ch == 2:\n",
    "    print('Answer : ',Num1 - Num2)\n",
    "elif ch == 3:\n",
    "    print('Answer : ',Num1 * Num2)\n",
    "elif ch == 4:\n",
    "    print('Answer : ',Num1 / Num2)\n",
    "else:\n",
    "    print('Enter value between 1 to 4')"
   ]
  },
  {
   "cell_type": "code",
   "execution_count": null,
   "metadata": {},
   "outputs": [],
   "source": []
  },
  {
   "cell_type": "code",
   "execution_count": null,
   "metadata": {},
   "outputs": [],
   "source": []
  }
 ],
 "metadata": {
  "kernelspec": {
   "display_name": "Python 3",
   "language": "python",
   "name": "python3"
  },
  "language_info": {
   "codemirror_mode": {
    "name": "ipython",
    "version": 3
   },
   "file_extension": ".py",
   "mimetype": "text/x-python",
   "name": "python",
   "nbconvert_exporter": "python",
   "pygments_lexer": "ipython3",
   "version": "3.8.5"
  }
 },
 "nbformat": 4,
 "nbformat_minor": 4
}
