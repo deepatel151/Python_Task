{
 "cells": [
  {
   "cell_type": "code",
   "execution_count": null,
   "metadata": {},
   "outputs": [],
   "source": [
    "#Task 8 - Make a table of all the In-built data structures and Point out the differences one by one."
   ]
  },
  {
   "cell_type": "code",
   "execution_count": null,
   "metadata": {},
   "outputs": [],
   "source": [
    "'''\n",
    "Lists :\n",
    "Lists are used to store data of different data types in a sequential manner. \n",
    "There are addresses assigned to every element of the list, which is called as Index.\n",
    "It can store different data types.\n",
    "Indexing and slicing is possible and duplicate values are allowed.\n",
    "The index value starts from 0 and goes on until the last element called the positive index. \n",
    "There is also negative indexing which starts from -1 enabling you to access elements from the last to first. \n",
    "'''"
   ]
  },
  {
   "cell_type": "code",
   "execution_count": null,
   "metadata": {},
   "outputs": [],
   "source": [
    "'''\n",
    "Dictionary :\n",
    "Dictionaries are used to store key-value pairs.\n",
    "Dictionaries are written with curly brackets and they have keys and values seperated by commas.\n",
    "In dictionaries, we can store different data types as well as order doesnt matter.\n",
    "To understand it better, think of a phone directory where hundreds and thousands of names and their corresponding numbers \n",
    "have been added. \n",
    "Now the constant values here are Name and the Phone Numbers which are called as the keys and keys should be unique.\n",
    "The various names and phone numbers are the values that have been fed to the keys.\n",
    "If we access the values of the keys, we can obtain all the names and phone numbers. \n",
    "So that is what a key-value pair is. And in Python, this structure is stored using Dictionaries.\n",
    "'''"
   ]
  },
  {
   "cell_type": "code",
   "execution_count": null,
   "metadata": {},
   "outputs": [],
   "source": [
    "'''\n",
    "Tuple :\n",
    "Tuples are the same as lists are with the exception that the data once entered into the tuple cannot be changed no matter what.\n",
    "In Python Tuples are written with round brackets.\n",
    "It can store different data types as well as duplicate values are allowed.\n",
    "we can use Indexing and slicing.\n",
    "The only exception is when the data inside the tuple is mutable, only then the tuple data can be changed.\n",
    "'''"
   ]
  },
  {
   "cell_type": "code",
   "execution_count": null,
   "metadata": {},
   "outputs": [],
   "source": [
    "'''\n",
    "Sets :\n",
    "Sets are a collection of unordered elements that are unique. \n",
    "It means that even if the data is repeated more than one time, it would be entered into the set only once.\n",
    "In Python sets are written with curly brackets as well as it can also store different data types.\n",
    "Duplicate values are not allowed and indexing and slicing is not possible\n",
    "It resembles the sets that you have learnt in arithmetic. \n",
    "The operations also are the same as is with the arithmetic sets. \n",
    "'''"
   ]
  }
 ],
 "metadata": {
  "kernelspec": {
   "display_name": "Python 3",
   "language": "python",
   "name": "python3"
  },
  "language_info": {
   "codemirror_mode": {
    "name": "ipython",
    "version": 3
   },
   "file_extension": ".py",
   "mimetype": "text/x-python",
   "name": "python",
   "nbconvert_exporter": "python",
   "pygments_lexer": "ipython3",
   "version": "3.8.5"
  }
 },
 "nbformat": 4,
 "nbformat_minor": 4
}
