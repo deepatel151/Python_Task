{
 "cells": [
  {
   "cell_type": "code",
   "execution_count": null,
   "metadata": {},
   "outputs": [],
   "source": [
    "'''\n",
    "Task 11.1\n",
    "\n",
    "A return statement is used to end the execution of the function call and returns the result\n",
    "(value of the expression following the return keyword) to the caller.\n",
    "The statements after the return statements are not executed.\n",
    "If the return statement is without any expression, then the special value None is returned.\n",
    "Return statement can not be used outside the function.\n",
    "'''\n",
    "def myfunction():\n",
    "    return 6+2\n",
    "    print(\"Hello, World!\")\n",
    "\n",
    "print(myfunction())"
   ]
  },
  {
   "cell_type": "code",
   "execution_count": null,
   "metadata": {},
   "outputs": [],
   "source": [
    "'''\n",
    "Task 11.2\n",
    "Ask 2 numbers from users and store it in num1 and num2\n",
    "Ask user to press 1 for addition,2 for subtraction,3 for multiplication and 4 for division\n",
    "create 4 seperate functions for each operation (i.e. addition,subtraction,multiplication and division)\n",
    "based on number given by user,call that perticular function and print the output\n",
    "'''\n",
    "'''\n",
    "print('1.Add')\n",
    "print('2.Subtraction')\n",
    "print('3.multiplication')\n",
    "print('4.division')\n",
    "'''"
   ]
  },
  {
   "cell_type": "code",
   "execution_count": null,
   "metadata": {
    "scrolled": true
   },
   "outputs": [],
   "source": [
    "def Add(Num1, Num2):                #For Add function\n",
    "    return Num1 + Num2\n",
    "\n",
    "def Subtraction(Num1, Num2):        #For Subtraction function\n",
    "    return Num1 - Num2\n",
    "\n",
    "def Multiplication(Num1, Num2):     #For Multiplication function\n",
    "    return Num1 * Num2\n",
    "\n",
    "def Division(Num1, Num2):           #For Division function\n",
    "    return Num1 + Num2\n",
    "\n",
    "print('1.Add')\n",
    "print('2.Subtraction')\n",
    "print('3.Multiplication')\n",
    "print('4.Division')\n",
    "ch = int(input('Enter any of these char for specific operation : '))\n",
    "\n",
    "if ch == 1:\n",
    "    Num1 = int(input('Enter First Number  : '))\n",
    "    Num2 = int(input('Enter Second Number : '))\n",
    "    print(Add(Num1,Num2))\n",
    "elif ch == 2:\n",
    "    Num1 = int(input('Enter First Number  : '))\n",
    "    Num2 = int(input('Enter Second Number : '))\n",
    "    print(Subtraction(Num1,Num2))\n",
    "elif ch == 3:\n",
    "    Num1 = int(input('Enter First Number  : '))\n",
    "    Num2 = int(input('Enter Second Number : '))\n",
    "    print(Multiplication(Num1,Num2))\n",
    "elif ch == 4:\n",
    "    Num1 = int(input('Enter First Number  : '))\n",
    "    Num2 = int(input('Enter Second Number : '))\n",
    "    print(Division(Num1,Num2))\n",
    "else:\n",
    "    print('Enter value between 1 to 4')"
   ]
  },
  {
   "cell_type": "code",
   "execution_count": null,
   "metadata": {},
   "outputs": [],
   "source": []
  }
 ],
 "metadata": {
  "kernelspec": {
   "display_name": "Python 3",
   "language": "python",
   "name": "python3"
  },
  "language_info": {
   "codemirror_mode": {
    "name": "ipython",
    "version": 3
   },
   "file_extension": ".py",
   "mimetype": "text/x-python",
   "name": "python",
   "nbconvert_exporter": "python",
   "pygments_lexer": "ipython3",
   "version": "3.8.5"
  }
 },
 "nbformat": 4,
 "nbformat_minor": 4
}
