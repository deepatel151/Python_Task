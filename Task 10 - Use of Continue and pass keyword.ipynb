{
 "cells": [
  {
   "cell_type": "code",
   "execution_count": null,
   "metadata": {},
   "outputs": [],
   "source": [
    "'''\n",
    "Task 10\n",
    "using while loop print numbers from 10 to 1\n",
    "'''\n",
    "count = 10                  # While loop \n",
    "while(count>0):\n",
    "    print(count)\n",
    "    count = count - 1"
   ]
  },
  {
   "cell_type": "code",
   "execution_count": null,
   "metadata": {},
   "outputs": [],
   "source": [
    "#try using for loop to loop over dictionaries\n",
    "Dict = {                      \n",
    "    'Name' : 'Deep Patel',\n",
    "    'City' : 'Surat',\n",
    "    'Country' : 'India'\n",
    "}\n",
    "for x, y in Dict.items():\n",
    "    print(x, y)"
   ]
  },
  {
   "cell_type": "code",
   "execution_count": null,
   "metadata": {},
   "outputs": [],
   "source": [
    "#try using for loop to loop over tuples\n",
    "mytuple = (123,'Abc',456, 'xyz')\n",
    "for x in mytuple:\n",
    "    print(x)\n"
   ]
  },
  {
   "cell_type": "code",
   "execution_count": null,
   "metadata": {},
   "outputs": [],
   "source": [
    "#try using for loop to loop over sets\n",
    "myset = {'123','Abc',456,'xyz'}\n",
    "for x in myset:\n",
    "    print(x)\n"
   ]
  },
  {
   "cell_type": "code",
   "execution_count": null,
   "metadata": {},
   "outputs": [],
   "source": [
    "# Task 10.1 = what is the uasge of continue with an example.\n",
    "'''\n",
    "#Explaination:\n",
    "The continue statement rejects all the remaining statements in the current \n",
    "iteration of the loop and moves the control back to the top of the loop.\n",
    "'''\n",
    "for letter in 'Python':\n",
    "    if(letter == 'h'):\n",
    "        continue\n",
    "    print('Current Letter :', letter)"
   ]
  },
  {
   "cell_type": "code",
   "execution_count": null,
   "metadata": {},
   "outputs": [],
   "source": [
    "# Task 10.2 What is pass keyword, with example\n",
    "'''\n",
    "The pass statement is used as a placeholder for future code.\n",
    "When the pass statement is executed, nothing happens, but you avoid getting an error when empty code is not allowed.\n",
    "Empty code is not allowed in loops, function definitions, class definitions, or in if statements.\n",
    "'''\n",
    "if(14>12):\n",
    "    pass   "
   ]
  }
 ],
 "metadata": {
  "kernelspec": {
   "display_name": "Python 3",
   "language": "python",
   "name": "python3"
  },
  "language_info": {
   "codemirror_mode": {
    "name": "ipython",
    "version": 3
   },
   "file_extension": ".py",
   "mimetype": "text/x-python",
   "name": "python",
   "nbconvert_exporter": "python",
   "pygments_lexer": "ipython3",
   "version": "3.8.5"
  }
 },
 "nbformat": 4,
 "nbformat_minor": 4
}
