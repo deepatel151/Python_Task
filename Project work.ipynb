{
 "cells": [
  {
   "cell_type": "code",
   "execution_count": null,
   "metadata": {},
   "outputs": [],
   "source": [
    "'''Write a python function to accept user inputs, store it in a list and compute the highest number\n",
    "out of it. User can enter as many numbers as he/she wants.\n",
    "Take care of following things:\n",
    "1. Input must be entered by user\n",
    "2. Exception handling\n",
    "3. Null values\n",
    "4. Errors\n",
    "5. Datatypes\n",
    "Output of the function must be a number.\n",
    "It should accept correct values and for incorrect values, an error message must be displayed to the user.\n",
    "'''"
   ]
  },
  {
   "cell_type": "code",
   "execution_count": null,
   "metadata": {},
   "outputs": [],
   "source": [
    "inputList=[]\n",
    "noInput=int(input(\"Enter the number of input you want to enter : \"))\n",
    "for i in range(noInput):\n",
    "    try:\n",
    "        num = int(input(\"Enter a number : \"))\n",
    "        inputList.append(num)\n",
    "    except:\n",
    "        print(\"Please enter only integer value\")\n",
    "        break\n",
    "print(\"Maximum number in string\",max(inputList))"
   ]
  },
  {
   "cell_type": "code",
   "execution_count": null,
   "metadata": {},
   "outputs": [],
   "source": [
    "\n"
   ]
  },
  {
   "cell_type": "code",
   "execution_count": null,
   "metadata": {},
   "outputs": [],
   "source": []
  }
 ],
 "metadata": {
  "kernelspec": {
   "display_name": "Python 3",
   "language": "python",
   "name": "python3"
  },
  "language_info": {
   "codemirror_mode": {
    "name": "ipython",
    "version": 3
   },
   "file_extension": ".py",
   "mimetype": "text/x-python",
   "name": "python",
   "nbconvert_exporter": "python",
   "pygments_lexer": "ipython3",
   "version": "3.8.5"
  }
 },
 "nbformat": 4,
 "nbformat_minor": 4
}
