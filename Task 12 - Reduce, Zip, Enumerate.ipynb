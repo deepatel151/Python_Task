{
 "cells": [
  {
   "cell_type": "code",
   "execution_count": null,
   "metadata": {},
   "outputs": [],
   "source": [
    "# Task 12\n",
    "#reduce() -> Doubt\n",
    "#zip()\n",
    "#enumerate()"
   ]
  },
  {
   "cell_type": "code",
   "execution_count": null,
   "metadata": {},
   "outputs": [],
   "source": [
    "'''\n",
    "Zip :\n",
    "The zip() function returns a zip object, which is an iterator of tuples where the first item in each passed iterator\n",
    "is paired together, and then the second item in each passed iterator are paired together etc.\n",
    "If the passed iterators have different lengths, the iterator with the least items decides the length of the new iterator.\n",
    "'''\n",
    "x = ('Deep','Raj','Samarth')\n",
    "y = ('India','China','Canada','London')\n",
    "z = zip(x, y)\n",
    "print(tuple(z))"
   ]
  },
  {
   "cell_type": "code",
   "execution_count": null,
   "metadata": {},
   "outputs": [],
   "source": [
    "'''\n",
    "Enumerate()\n",
    "The enumerate function takes a collection (e.g. a tuple) and returns it as an enumerate object.\n",
    "The enumerate function adds a counter as the key of the enumerate object.\n",
    "'''\n",
    "x = ('Deep','Raj','Samarth')\n",
    "y = enumerate(x,1)\n",
    "print(tuple(y))"
   ]
  },
  {
   "cell_type": "code",
   "execution_count": null,
   "metadata": {},
   "outputs": [],
   "source": [
    "#Doubt in Reduce()"
   ]
  }
 ],
 "metadata": {
  "kernelspec": {
   "display_name": "Python 3",
   "language": "python",
   "name": "python3"
  },
  "language_info": {
   "codemirror_mode": {
    "name": "ipython",
    "version": 3
   },
   "file_extension": ".py",
   "mimetype": "text/x-python",
   "name": "python",
   "nbconvert_exporter": "python",
   "pygments_lexer": "ipython3",
   "version": "3.8.5"
  }
 },
 "nbformat": 4,
 "nbformat_minor": 4
}
